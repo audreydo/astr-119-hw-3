{
 "cells": [
  {
   "cell_type": "markdown",
   "metadata": {},
   "source": [
    "## ASTR 119 Homework 3, Due Oct. 25\n",
    "Audrey Do"
   ]
  },
  {
   "cell_type": "code",
   "execution_count": null,
   "metadata": {},
   "outputs": [],
   "source": [
    "%matplotlib inline\n",
    "import numpy as np\n",
    "import matplotlib.pyplot as plt"
   ]
  },
  {
   "cell_type": "markdown",
   "metadata": {},
   "source": [
    "## Define function to find the roots of"
   ]
  },
  {
   "cell_type": "code",
   "execution_count": null,
   "metadata": {},
   "outputs": [],
   "source": [
    "def function_for_roots(x):\n",
    "    a = 1.01\n",
    "    b = -3.04\n",
    "    c = 2.07\n",
    "    return a*x**2 + b*x + c   #Return the function 1.01x^2 - 3.04x + 2.07"
   ]
  },
  {
   "cell_type": "markdown",
   "metadata": {},
   "source": [
    "## Define a function to check if initial values are valid"
   ]
  },
  {
   "cell_type": "code",
   "execution_count": null,
   "metadata": {},
   "outputs": [],
   "source": [
    "def check_initial_values(f, x_min, x_max, tol):\n",
    "    \n",
    "    y_min = f(x_min)   #function value at x_min\n",
    "    y_max = f(x_max)   #function value at x_max\n",
    "    \n",
    "    if(y_min*y_max>=0.0):   #if product is greater than or equal 0, it means there is no root between initial values\n",
    "        print(\"No zero crossing found in range = \",x_min,x_max)\n",
    "        s = \"f(%f) = %f, f(%f) = %f\" % (x_min,y_min,x_max,y_max)\n",
    "        print(s)\n",
    "        return 0   #return flag == 0\n",
    "    \n",
    "    if(np.fabs(y_min)<tol): #if abs value of y_min is less than tolerance, y_min is a root\n",
    "        return 1   #return flag == 1\n",
    "    \n",
    "    if(np.fabs(y_max)<tol): #if abs v alue of y_max is less than tolerance, y_max is a root\n",
    "        return 2   #return flag == 2\n",
    "    \n",
    "    return 3   #return flag == 3, intial values are valid and we can continue"
   ]
  },
  {
   "cell_type": "markdown",
   "metadata": {},
   "source": [
    "## Define main work function that actually performs the iterative search"
   ]
  },
  {
   "cell_type": "code",
   "execution_count": null,
   "metadata": {},
   "outputs": [],
   "source": [
    "def bisection_root_finding(f, x_min_start, x_max_start, tol):\n",
    "    \n",
    "    x_min = x_min_start\n",
    "    x_max = x_max_start\n",
    "    x_mid = 0.0 \n",
    "    \n",
    "    y_min = f(x_min)\n",
    "    y_max = f(x_max)\n",
    "    y_mid = 0.0 \n",
    "    \n",
    "    imax = 10000   #sets maximum number of iterations to 10000\n",
    "    i = 0   #set first iteration at i = 0\n",
    "    \n",
    "    #Check the initial values\n",
    "    flag = check_initial_values(f,x_min,x_max,tol)     \n",
    "    if(flag==0):\n",
    "        print(\"Error in bisection_root_finding().\")\n",
    "        raise ValueError('Initial values invalid',x_min,x_max)\n",
    "    elif(flag==1):\n",
    "        return x_min\n",
    "    elif(flag==2):\n",
    "        return x_max\n",
    "    \n",
    "    #If we reach here, then we need to conduct the search \n",
    "    \n",
    "    flag = 1\n",
    "    \n",
    "    #enter while loop\n",
    "    while(flag):\n",
    "        x_mid = 0.5*(x_min+x_max)   #sets x_mid as midpoint between x_min and x_max\n",
    "        y_mid = f(x_mid)\n",
    "        \n",
    "        #check if x_mid is a root\n",
    "        if(np.fabs(y_mid)<tol):   #if the absolute value of y_mid is less than the tolerance\n",
    "            flag = 0   #flag = 0, exit the while loop\n",
    "        else:\n",
    "            #x_mid is not a root at this point\n",
    "            \n",
    "            if(f(x_min)*f(x_mid)>0):#if the product of the function at midpoint and x_min is greater than 0, replace this endpoint\n",
    "                x_min = x_mid            # Replace x_min with x_mid\n",
    "            else:\n",
    "                x_max = x_mid #otherwise, replace x_max with x_mid\n",
    "        \n",
    "        print(x_min,f(x_min),x_max,f(x_max))   #print the iteration\n",
    "          \n",
    "        i += 1 #increase iteration count\n",
    "        \n",
    "        #if max number if iterations exceeded, exit\n",
    "        if(i>imax):\n",
    "            print(\"Exceeded max number of iterations = \",i)\n",
    "            s = \"Min bracket f(%f) = %f\" % (x_min,f(x_min))\n",
    "            print(s)\n",
    "            s = \"Max bracket f(%f) = %f\" % (x_max,f(x_max))\n",
    "            print(s)\n",
    "            s = \"Mid bracket f(%f) = %f\" % (x_mid,f(x_mid))\n",
    "            print(s)\n",
    "            raise StopIteration('Stopping iterations after ',i)\n",
    "    \n",
    "    #print number of iterations run\n",
    "    w = \"number of iterations run: %i\" % (i)\n",
    "    print(w)\n",
    "    \n",
    "    # We are done!\n",
    "    return x_mid"
   ]
  },
  {
   "cell_type": "markdown",
   "metadata": {},
   "source": [
    "## Perform the search for first root"
   ]
  },
  {
   "cell_type": "code",
   "execution_count": null,
   "metadata": {},
   "outputs": [],
   "source": [
    "x_min = 0.5   #x_min value for first bracket\n",
    "x_max = 1.4   #x_max value for second bracket\n",
    "tolerance = 1.0e-6   #set tolerance to 0.000001\n",
    "\n",
    "#print the initial guess\n",
    "print(x_min,function_for_roots(x_min))\n",
    "print(x_max,function_for_roots(x_max))\n",
    "\n",
    "x_root = bisection_root_finding(function_for_roots,x_min,x_max,tolerance)\n",
    "y_root = function_for_roots(x_root)\n",
    "\n",
    "s = \"Root found with y(%f) = %f\" % (x_root,y_root)\n",
    "print(s)"
   ]
  },
  {
   "cell_type": "markdown",
   "metadata": {},
   "source": [
    "## Perform the search for the second root"
   ]
  },
  {
   "cell_type": "code",
   "execution_count": null,
   "metadata": {},
   "outputs": [],
   "source": [
    "x_min = 1.6   #x_min value for first bracket\n",
    "x_max = 2.5   #x_max value for second bracket\n",
    "tolerance = 1.0e-6   #set tolerance to 0.000001\n",
    "\n",
    "#print the initial guess\n",
    "print(x_min,function_for_roots(x_min))\n",
    "print(x_max,function_for_roots(x_max))\n",
    "\n",
    "x_root = bisection_root_finding(function_for_roots,x_min,x_max,tolerance)\n",
    "y_root = function_for_roots(x_root)\n",
    "\n",
    "s = \"Root found with y(%f) = %f\" % (x_root,y_root)\n",
    "print(s)"
   ]
  },
  {
   "cell_type": "markdown",
   "metadata": {},
   "source": [
    "## Create a plot to display the initial bracketing values and roots"
   ]
  },
  {
   "cell_type": "code",
   "execution_count": null,
   "metadata": {},
   "outputs": [],
   "source": [
    "f = plt.figure(figsize=(10,10))\n",
    "x = np.linspace(0, 3, 1000)  #sets x range [0,3] with 1000 even intervals\n",
    "y = 1.01*x**2 - 3.04*x + 2.07\n",
    "z = 0*x   #sets z as a horizontal line at y = 0\n",
    "plt.plot(x,y)\n",
    "plt.plot(x,z)\n",
    "\n",
    "plt.plot(0.5,0.8024999999999998,marker='o',color='blue',label='Root 1 Bracket')\n",
    "plt.plot(1.4,-0.20639999999999992,marker='o',color='blue')\n",
    "plt.plot(1.040871,-0.000001,marker='o',color='red',label='Root 1')\n",
    "\n",
    "plt.plot(1.6, -0.20840000000000058,marker='o',color='green',label=\"Root 2 Bracket\")\n",
    "plt.plot(2.5, 0.7825000000000002,marker='o',color='green')\n",
    "plt.plot(1.969031,-0.000001,marker='o',color='red',label='Root 2')\n",
    "\n",
    "plt.ylabel('f(x)')\n",
    "plt.xlabel('x')\n",
    "plt.xlim([0,3])\n",
    "plt.ylim([-0.5,2.1])\n",
    "plt.legend(loc=4,frameon=True)\n",
    "plt.show()"
   ]
  }
 ],
 "metadata": {
  "kernelspec": {
   "display_name": "Python 3",
   "language": "python",
   "name": "python3"
  },
  "language_info": {
   "codemirror_mode": {
    "name": "ipython",
    "version": 3
   },
   "file_extension": ".py",
   "mimetype": "text/x-python",
   "name": "python",
   "nbconvert_exporter": "python",
   "pygments_lexer": "ipython3",
   "version": "3.4.6"
  }
 },
 "nbformat": 4,
 "nbformat_minor": 2
}
